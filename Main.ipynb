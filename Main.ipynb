{
 "cells": [
  {
   "cell_type": "code",
   "execution_count": 12,
   "metadata": {},
   "outputs": [],
   "source": [
    "# import libraries\n",
    "import pandas as pd\n",
    "import numpy as np\n",
    "import matplotlib.pyplot as plt"
   ]
  },
  {
   "cell_type": "code",
   "execution_count": 4,
   "metadata": {},
   "outputs": [
    {
     "data": {
      "text/html": [
       "<div>\n",
       "<style scoped>\n",
       "    .dataframe tbody tr th:only-of-type {\n",
       "        vertical-align: middle;\n",
       "    }\n",
       "\n",
       "    .dataframe tbody tr th {\n",
       "        vertical-align: top;\n",
       "    }\n",
       "\n",
       "    .dataframe thead th {\n",
       "        text-align: right;\n",
       "    }\n",
       "</style>\n",
       "<table border=\"1\" class=\"dataframe\">\n",
       "  <thead>\n",
       "    <tr style=\"text-align: right;\">\n",
       "      <th></th>\n",
       "      <th>Name</th>\n",
       "      <th>Age</th>\n",
       "      <th>Gender</th>\n",
       "      <th>Blood Type</th>\n",
       "      <th>Medical Condition</th>\n",
       "      <th>Date of Admission</th>\n",
       "      <th>Doctor</th>\n",
       "      <th>Hospital</th>\n",
       "      <th>Insurance Provider</th>\n",
       "      <th>Billing Amount</th>\n",
       "      <th>Room Number</th>\n",
       "      <th>Admission Type</th>\n",
       "      <th>Discharge Date</th>\n",
       "      <th>Medication</th>\n",
       "      <th>Test Results</th>\n",
       "    </tr>\n",
       "  </thead>\n",
       "  <tbody>\n",
       "    <tr>\n",
       "      <th>0</th>\n",
       "      <td>Bobby JacksOn</td>\n",
       "      <td>30</td>\n",
       "      <td>Male</td>\n",
       "      <td>B-</td>\n",
       "      <td>Cancer</td>\n",
       "      <td>2024-01-31</td>\n",
       "      <td>Matthew Smith</td>\n",
       "      <td>Sons and Miller</td>\n",
       "      <td>Blue Cross</td>\n",
       "      <td>18856.281306</td>\n",
       "      <td>328</td>\n",
       "      <td>Urgent</td>\n",
       "      <td>2024-02-02</td>\n",
       "      <td>Paracetamol</td>\n",
       "      <td>Normal</td>\n",
       "    </tr>\n",
       "    <tr>\n",
       "      <th>1</th>\n",
       "      <td>LesLie TErRy</td>\n",
       "      <td>62</td>\n",
       "      <td>Male</td>\n",
       "      <td>A+</td>\n",
       "      <td>Obesity</td>\n",
       "      <td>2019-08-20</td>\n",
       "      <td>Samantha Davies</td>\n",
       "      <td>Kim Inc</td>\n",
       "      <td>Medicare</td>\n",
       "      <td>33643.327287</td>\n",
       "      <td>265</td>\n",
       "      <td>Emergency</td>\n",
       "      <td>2019-08-26</td>\n",
       "      <td>Ibuprofen</td>\n",
       "      <td>Inconclusive</td>\n",
       "    </tr>\n",
       "    <tr>\n",
       "      <th>2</th>\n",
       "      <td>DaNnY sMitH</td>\n",
       "      <td>76</td>\n",
       "      <td>Female</td>\n",
       "      <td>A-</td>\n",
       "      <td>Obesity</td>\n",
       "      <td>2022-09-22</td>\n",
       "      <td>Tiffany Mitchell</td>\n",
       "      <td>Cook PLC</td>\n",
       "      <td>Aetna</td>\n",
       "      <td>27955.096079</td>\n",
       "      <td>205</td>\n",
       "      <td>Emergency</td>\n",
       "      <td>2022-10-07</td>\n",
       "      <td>Aspirin</td>\n",
       "      <td>Normal</td>\n",
       "    </tr>\n",
       "    <tr>\n",
       "      <th>3</th>\n",
       "      <td>andrEw waTtS</td>\n",
       "      <td>28</td>\n",
       "      <td>Female</td>\n",
       "      <td>O+</td>\n",
       "      <td>Diabetes</td>\n",
       "      <td>2020-11-18</td>\n",
       "      <td>Kevin Wells</td>\n",
       "      <td>Hernandez Rogers and Vang,</td>\n",
       "      <td>Medicare</td>\n",
       "      <td>37909.782410</td>\n",
       "      <td>450</td>\n",
       "      <td>Elective</td>\n",
       "      <td>2020-12-18</td>\n",
       "      <td>Ibuprofen</td>\n",
       "      <td>Abnormal</td>\n",
       "    </tr>\n",
       "    <tr>\n",
       "      <th>4</th>\n",
       "      <td>adrIENNE bEll</td>\n",
       "      <td>43</td>\n",
       "      <td>Female</td>\n",
       "      <td>AB+</td>\n",
       "      <td>Cancer</td>\n",
       "      <td>2022-09-19</td>\n",
       "      <td>Kathleen Hanna</td>\n",
       "      <td>White-White</td>\n",
       "      <td>Aetna</td>\n",
       "      <td>14238.317814</td>\n",
       "      <td>458</td>\n",
       "      <td>Urgent</td>\n",
       "      <td>2022-10-09</td>\n",
       "      <td>Penicillin</td>\n",
       "      <td>Abnormal</td>\n",
       "    </tr>\n",
       "    <tr>\n",
       "      <th>...</th>\n",
       "      <td>...</td>\n",
       "      <td>...</td>\n",
       "      <td>...</td>\n",
       "      <td>...</td>\n",
       "      <td>...</td>\n",
       "      <td>...</td>\n",
       "      <td>...</td>\n",
       "      <td>...</td>\n",
       "      <td>...</td>\n",
       "      <td>...</td>\n",
       "      <td>...</td>\n",
       "      <td>...</td>\n",
       "      <td>...</td>\n",
       "      <td>...</td>\n",
       "      <td>...</td>\n",
       "    </tr>\n",
       "    <tr>\n",
       "      <th>55495</th>\n",
       "      <td>eLIZABeTH jaCkSOn</td>\n",
       "      <td>42</td>\n",
       "      <td>Female</td>\n",
       "      <td>O+</td>\n",
       "      <td>Asthma</td>\n",
       "      <td>2020-08-16</td>\n",
       "      <td>Joshua Jarvis</td>\n",
       "      <td>Jones-Thompson</td>\n",
       "      <td>Blue Cross</td>\n",
       "      <td>2650.714952</td>\n",
       "      <td>417</td>\n",
       "      <td>Elective</td>\n",
       "      <td>2020-09-15</td>\n",
       "      <td>Penicillin</td>\n",
       "      <td>Abnormal</td>\n",
       "    </tr>\n",
       "    <tr>\n",
       "      <th>55496</th>\n",
       "      <td>KYle pEREz</td>\n",
       "      <td>61</td>\n",
       "      <td>Female</td>\n",
       "      <td>AB-</td>\n",
       "      <td>Obesity</td>\n",
       "      <td>2020-01-23</td>\n",
       "      <td>Taylor Sullivan</td>\n",
       "      <td>Tucker-Moyer</td>\n",
       "      <td>Cigna</td>\n",
       "      <td>31457.797307</td>\n",
       "      <td>316</td>\n",
       "      <td>Elective</td>\n",
       "      <td>2020-02-01</td>\n",
       "      <td>Aspirin</td>\n",
       "      <td>Normal</td>\n",
       "    </tr>\n",
       "    <tr>\n",
       "      <th>55497</th>\n",
       "      <td>HEATher WaNG</td>\n",
       "      <td>38</td>\n",
       "      <td>Female</td>\n",
       "      <td>B+</td>\n",
       "      <td>Hypertension</td>\n",
       "      <td>2020-07-13</td>\n",
       "      <td>Joe Jacobs DVM</td>\n",
       "      <td>and Mahoney Johnson Vasquez,</td>\n",
       "      <td>UnitedHealthcare</td>\n",
       "      <td>27620.764717</td>\n",
       "      <td>347</td>\n",
       "      <td>Urgent</td>\n",
       "      <td>2020-08-10</td>\n",
       "      <td>Ibuprofen</td>\n",
       "      <td>Abnormal</td>\n",
       "    </tr>\n",
       "    <tr>\n",
       "      <th>55498</th>\n",
       "      <td>JENniFER JOneS</td>\n",
       "      <td>43</td>\n",
       "      <td>Male</td>\n",
       "      <td>O-</td>\n",
       "      <td>Arthritis</td>\n",
       "      <td>2019-05-25</td>\n",
       "      <td>Kimberly Curry</td>\n",
       "      <td>Jackson Todd and Castro,</td>\n",
       "      <td>Medicare</td>\n",
       "      <td>32451.092358</td>\n",
       "      <td>321</td>\n",
       "      <td>Elective</td>\n",
       "      <td>2019-05-31</td>\n",
       "      <td>Ibuprofen</td>\n",
       "      <td>Abnormal</td>\n",
       "    </tr>\n",
       "    <tr>\n",
       "      <th>55499</th>\n",
       "      <td>jAMES GARCiA</td>\n",
       "      <td>53</td>\n",
       "      <td>Female</td>\n",
       "      <td>O+</td>\n",
       "      <td>Arthritis</td>\n",
       "      <td>2024-04-02</td>\n",
       "      <td>Dennis Warren</td>\n",
       "      <td>Henry Sons and</td>\n",
       "      <td>Aetna</td>\n",
       "      <td>4010.134172</td>\n",
       "      <td>448</td>\n",
       "      <td>Urgent</td>\n",
       "      <td>2024-04-29</td>\n",
       "      <td>Ibuprofen</td>\n",
       "      <td>Abnormal</td>\n",
       "    </tr>\n",
       "  </tbody>\n",
       "</table>\n",
       "<p>55500 rows × 15 columns</p>\n",
       "</div>"
      ],
      "text/plain": [
       "                    Name  Age  Gender Blood Type Medical Condition  \\\n",
       "0          Bobby JacksOn   30    Male         B-            Cancer   \n",
       "1           LesLie TErRy   62    Male         A+           Obesity   \n",
       "2            DaNnY sMitH   76  Female         A-           Obesity   \n",
       "3           andrEw waTtS   28  Female         O+          Diabetes   \n",
       "4          adrIENNE bEll   43  Female        AB+            Cancer   \n",
       "...                  ...  ...     ...        ...               ...   \n",
       "55495  eLIZABeTH jaCkSOn   42  Female         O+            Asthma   \n",
       "55496         KYle pEREz   61  Female        AB-           Obesity   \n",
       "55497       HEATher WaNG   38  Female         B+      Hypertension   \n",
       "55498     JENniFER JOneS   43    Male         O-         Arthritis   \n",
       "55499       jAMES GARCiA   53  Female         O+         Arthritis   \n",
       "\n",
       "      Date of Admission            Doctor                      Hospital  \\\n",
       "0            2024-01-31     Matthew Smith               Sons and Miller   \n",
       "1            2019-08-20   Samantha Davies                       Kim Inc   \n",
       "2            2022-09-22  Tiffany Mitchell                      Cook PLC   \n",
       "3            2020-11-18       Kevin Wells    Hernandez Rogers and Vang,   \n",
       "4            2022-09-19    Kathleen Hanna                   White-White   \n",
       "...                 ...               ...                           ...   \n",
       "55495        2020-08-16     Joshua Jarvis                Jones-Thompson   \n",
       "55496        2020-01-23   Taylor Sullivan                  Tucker-Moyer   \n",
       "55497        2020-07-13    Joe Jacobs DVM  and Mahoney Johnson Vasquez,   \n",
       "55498        2019-05-25    Kimberly Curry      Jackson Todd and Castro,   \n",
       "55499        2024-04-02     Dennis Warren                Henry Sons and   \n",
       "\n",
       "      Insurance Provider  Billing Amount  Room Number Admission Type  \\\n",
       "0             Blue Cross    18856.281306          328         Urgent   \n",
       "1               Medicare    33643.327287          265      Emergency   \n",
       "2                  Aetna    27955.096079          205      Emergency   \n",
       "3               Medicare    37909.782410          450       Elective   \n",
       "4                  Aetna    14238.317814          458         Urgent   \n",
       "...                  ...             ...          ...            ...   \n",
       "55495         Blue Cross     2650.714952          417       Elective   \n",
       "55496              Cigna    31457.797307          316       Elective   \n",
       "55497   UnitedHealthcare    27620.764717          347         Urgent   \n",
       "55498           Medicare    32451.092358          321       Elective   \n",
       "55499              Aetna     4010.134172          448         Urgent   \n",
       "\n",
       "      Discharge Date   Medication  Test Results  \n",
       "0         2024-02-02  Paracetamol        Normal  \n",
       "1         2019-08-26    Ibuprofen  Inconclusive  \n",
       "2         2022-10-07      Aspirin        Normal  \n",
       "3         2020-12-18    Ibuprofen      Abnormal  \n",
       "4         2022-10-09   Penicillin      Abnormal  \n",
       "...              ...          ...           ...  \n",
       "55495     2020-09-15   Penicillin      Abnormal  \n",
       "55496     2020-02-01      Aspirin        Normal  \n",
       "55497     2020-08-10    Ibuprofen      Abnormal  \n",
       "55498     2019-05-31    Ibuprofen      Abnormal  \n",
       "55499     2024-04-29    Ibuprofen      Abnormal  \n",
       "\n",
       "[55500 rows x 15 columns]"
      ]
     },
     "execution_count": 4,
     "metadata": {},
     "output_type": "execute_result"
    }
   ],
   "source": [
    "# Read Dataset\n",
    "df=pd.read_csv(r'C:\\Users\\Rahul\\Documents\\healthcare_dataset.csv')\n",
    "df"
   ]
  },
  {
   "cell_type": "code",
   "execution_count": 7,
   "metadata": {},
   "outputs": [
    {
     "data": {
      "text/html": [
       "<div>\n",
       "<style scoped>\n",
       "    .dataframe tbody tr th:only-of-type {\n",
       "        vertical-align: middle;\n",
       "    }\n",
       "\n",
       "    .dataframe tbody tr th {\n",
       "        vertical-align: top;\n",
       "    }\n",
       "\n",
       "    .dataframe thead th {\n",
       "        text-align: right;\n",
       "    }\n",
       "</style>\n",
       "<table border=\"1\" class=\"dataframe\">\n",
       "  <thead>\n",
       "    <tr style=\"text-align: right;\">\n",
       "      <th></th>\n",
       "      <th>Age</th>\n",
       "      <th>Billing Amount</th>\n",
       "      <th>Room Number</th>\n",
       "    </tr>\n",
       "  </thead>\n",
       "  <tbody>\n",
       "    <tr>\n",
       "      <th>count</th>\n",
       "      <td>55500.000000</td>\n",
       "      <td>55500.000000</td>\n",
       "      <td>55500.000000</td>\n",
       "    </tr>\n",
       "    <tr>\n",
       "      <th>mean</th>\n",
       "      <td>51.539459</td>\n",
       "      <td>25539.316097</td>\n",
       "      <td>301.134829</td>\n",
       "    </tr>\n",
       "    <tr>\n",
       "      <th>std</th>\n",
       "      <td>19.602454</td>\n",
       "      <td>14211.454431</td>\n",
       "      <td>115.243069</td>\n",
       "    </tr>\n",
       "    <tr>\n",
       "      <th>min</th>\n",
       "      <td>13.000000</td>\n",
       "      <td>-2008.492140</td>\n",
       "      <td>101.000000</td>\n",
       "    </tr>\n",
       "    <tr>\n",
       "      <th>25%</th>\n",
       "      <td>35.000000</td>\n",
       "      <td>13241.224652</td>\n",
       "      <td>202.000000</td>\n",
       "    </tr>\n",
       "    <tr>\n",
       "      <th>50%</th>\n",
       "      <td>52.000000</td>\n",
       "      <td>25538.069376</td>\n",
       "      <td>302.000000</td>\n",
       "    </tr>\n",
       "    <tr>\n",
       "      <th>75%</th>\n",
       "      <td>68.000000</td>\n",
       "      <td>37820.508436</td>\n",
       "      <td>401.000000</td>\n",
       "    </tr>\n",
       "    <tr>\n",
       "      <th>max</th>\n",
       "      <td>89.000000</td>\n",
       "      <td>52764.276736</td>\n",
       "      <td>500.000000</td>\n",
       "    </tr>\n",
       "  </tbody>\n",
       "</table>\n",
       "</div>"
      ],
      "text/plain": [
       "                Age  Billing Amount   Room Number\n",
       "count  55500.000000    55500.000000  55500.000000\n",
       "mean      51.539459    25539.316097    301.134829\n",
       "std       19.602454    14211.454431    115.243069\n",
       "min       13.000000    -2008.492140    101.000000\n",
       "25%       35.000000    13241.224652    202.000000\n",
       "50%       52.000000    25538.069376    302.000000\n",
       "75%       68.000000    37820.508436    401.000000\n",
       "max       89.000000    52764.276736    500.000000"
      ]
     },
     "execution_count": 7,
     "metadata": {},
     "output_type": "execute_result"
    }
   ],
   "source": [
    "df.describe()"
   ]
  },
  {
   "cell_type": "code",
   "execution_count": 9,
   "metadata": {},
   "outputs": [
    {
     "name": "stdout",
     "output_type": "stream",
     "text": [
      "The average age of the patient is 51.54 years.\n"
     ]
    }
   ],
   "source": [
    "# Average age of the patient\n",
    "average_age = df['Age'].mean()\n",
    "print(f\"The average age of the patient is {average_age:.2f} years.\")"
   ]
  },
  {
   "cell_type": "code",
   "execution_count": 22,
   "metadata": {},
   "outputs": [
    {
     "data": {
      "image/png": "[encoded data removed]",
      "text/plain": [
       "<Figure size 640x480 with 1 Axes>"
      ]
     },
     "metadata": {},
     "output_type": "display_data"
    }
   ],
   "source": [
    "# age category of the patients \n",
    "def age_category(Age):\n",
    "    if Age >0 and Age <=12:\n",
    "        return \"Child\"\n",
    "    elif Age > 12 and Age <= 18:\n",
    "        return \"Teenager\"\n",
    "    elif Age > 18 and Age <= 65:\n",
    "        return \"Adult\"\n",
    "    else:\n",
    "        return \"Senior\"\n",
    "    \n",
    "df['Patient Category']=df['Age'].apply(age_category)\n",
    "\n",
    "category_count=df['Patient Category'].value_counts()\n",
    "\n",
    "plt.pie(category_count,labels=category_count.index,autopct='%.f%%')\n",
    "plt.title('Age Category of Patients')\n",
    "plt.show()"
   ]
  },
  {
   "cell_type": "code",
   "execution_count": 26,
   "metadata": {},
   "outputs": [
    {
     "name": "stdout",
     "output_type": "stream",
     "text": [
      "Patient Distribution Across Age Groups:\n",
      "Age Group\n",
      "0-20      1693\n",
      "21-40    16179\n",
      "41-60    16480\n",
      "61-80    16249\n",
      "81+       4899\n",
      "Name: count, dtype: int64\n"
     ]
    }
   ],
   "source": [
    "# Define age brackets\n",
    "bins = [0, 20, 40, 60, 80, 100]\n",
    "labels = ['0-20', '21-40', '41-60', '61-80', '81+']\n",
    "\n",
    "df['Age Group'] = pd.cut(df['Age'], bins=bins, labels=labels, right=False)\n",
    "\n",
    "# Count the number of patients in each age group\n",
    "age_group_distribution = df['Age Group'].value_counts().sort_index()\n",
    "\n",
    "print(\"Patient Distribution Across Age Groups:\")\n",
    "print(age_group_distribution)\n"
   ]
  },
  {
   "cell_type": "code",
   "execution_count": 28,
   "metadata": {},
   "outputs": [
    {
     "data": {
      "text/plain": [
       "Gender\n",
       "Male      27774\n",
       "Female    27726\n",
       "Name: count, dtype: int64"
      ]
     },
     "execution_count": 28,
     "metadata": {},
     "output_type": "execute_result"
    }
   ],
   "source": [
    "df['Gender'].value_counts()"
   ]
  },
  {
   "cell_type": "code",
   "execution_count": 30,
   "metadata": {},
   "outputs": [
    {
     "data": {
      "text/plain": [
       "Gender\n",
       "Female    51.578735\n",
       "Male      51.500252\n",
       "Name: Age, dtype: float64"
      ]
     },
     "execution_count": 30,
     "metadata": {},
     "output_type": "execute_result"
    }
   ],
   "source": [
    "df.groupby('Gender')['Age'].mean()"
   ]
  },
  {
   "cell_type": "code",
   "execution_count": 33,
   "metadata": {},
   "outputs": [
    {
     "name": "stdout",
     "output_type": "stream",
     "text": [
      "Age Distribution by Gender:\n",
      "Gender  Age Group\n",
      "Female  0-20          865\n",
      "        21-40        8091\n",
      "        41-60        8165\n",
      "        61-80        8108\n",
      "        81+          2497\n",
      "Male    0-20          828\n",
      "        21-40        8088\n",
      "        41-60        8315\n",
      "        61-80        8141\n",
      "        81+          2402\n",
      "dtype: int64\n"
     ]
    },
    {
     "name": "stderr",
     "output_type": "stream",
     "text": [
      "C:\\Users\\Rahul\\AppData\\Local\\Temp\\ipykernel_12440\\1302350385.py:1: FutureWarning: The default of observed=False is deprecated and will be changed to True in a future version of pandas. Pass observed=False to retain current behavior or observed=True to adopt the future default and silence this warning.\n",
      "  gender_age_distribution = df.groupby(['Gender', 'Age Group']).size()\n"
     ]
    },
    {
     "data": {
      "image/png": "[encoded data removed]",
      "text/plain": [
       "<Figure size 640x480 with 1 Axes>"
      ]
     },
     "metadata": {},
     "output_type": "display_data"
    }
   ],
   "source": [
    "gender_age_distribution = df.groupby(['Gender', 'Age Group']).size()\n",
    "\n",
    "print(\"Age Distribution by Gender:\")\n",
    "print(gender_age_distribution)\n",
    "\n",
    "# Plot the distribution as a bar plot\n",
    "gender_age_distribution.plot(kind='bar')\n",
    "plt.title('Age Distribution by Gender')\n",
    "plt.xlabel('Age Group')\n",
    "plt.ylabel('Number of Patients')\n",
    "plt.xticks(rotation=45)\n",
    "plt.show()"
   ]
  },
  {
   "cell_type": "code",
   "execution_count": 43,
   "metadata": {},
   "outputs": [
    {
     "name": "stdout",
     "output_type": "stream",
     "text": [
      "Distribution of Blood Types:\n",
      "Blood Type\n",
      "A-     6969\n",
      "A+     6956\n",
      "AB+    6947\n",
      "AB-    6945\n",
      "B+     6945\n",
      "B-     6944\n",
      "O+     6917\n",
      "O-     6877\n",
      "Name: count, dtype: int64\n"
     ]
    }
   ],
   "source": [
    "# count the number of patient with each blood type\n",
    "blood_type_distribution=df['Blood Type'].value_counts()\n",
    "print(\"Distribution of Blood Types:\")\n",
    "print(blood_type_distribution)"
   ]
  },
  {
   "cell_type": "code",
   "execution_count": 45,
   "metadata": {},
   "outputs": [
    {
     "name": "stdout",
     "output_type": "stream",
     "text": [
      "The most common blood type is 'A-' with 6969 patients.\n"
     ]
    }
   ],
   "source": [
    "# most common blood type \n",
    "most_common_blood_type = df['Blood Type'].mode()[0]\n",
    "most_common_count = blood_type_distribution[most_common_blood_type]\n",
    "\n",
    "print(f\"The most common blood type is '{most_common_blood_type}' with {most_common_count} patients.\")"
   ]
  },
  {
   "cell_type": "code",
   "execution_count": 51,
   "metadata": {},
   "outputs": [
    {
     "name": "stdout",
     "output_type": "stream",
     "text": [
      "Gender  Blood Type\n",
      "Female  A+            3564\n",
      "        O-            3512\n",
      "        O+            3464\n",
      "        AB-           3461\n",
      "        B-            3461\n",
      "        A-            3449\n",
      "        AB+           3438\n",
      "        B+            3377\n",
      "Male    B+            3568\n",
      "        A-            3520\n",
      "        AB+           3509\n",
      "        AB-           3484\n",
      "        B-            3483\n",
      "        O+            3453\n",
      "        A+            3392\n",
      "        O-            3365\n",
      "Name: count, dtype: int64\n"
     ]
    }
   ],
   "source": [
    "blood_type_gender_distribution=df.groupby('Gender')['Blood Type'].value_counts()\n",
    "print(blood_type_gender_distribution)"
   ]
  },
  {
   "cell_type": "code",
   "execution_count": 56,
   "metadata": {},
   "outputs": [
    {
     "name": "stdout",
     "output_type": "stream",
     "text": [
      "Distribution of Blood Types by Age Group:\n",
      "Blood Type    A+    A-   AB+   AB-    B+    B-    O+    O-\n",
      "Age Group                                                 \n",
      "0-20         209   212   222   218   196   224   189   223\n",
      "21-40       2043  2059  2007  2042  1956  2055  2013  2004\n",
      "41-60       2030  2037  2100  2004  2082  2053  2135  2039\n",
      "61-80       2052  2080  2019  2068  2090  1985  1964  1991\n",
      "81+          622   581   599   613   621   627   616   620\n"
     ]
    },
    {
     "name": "stderr",
     "output_type": "stream",
     "text": [
      "C:\\Users\\Rahul\\AppData\\Local\\Temp\\ipykernel_12440\\215962605.py:1: FutureWarning: The default of observed=False is deprecated and will be changed to True in a future version of pandas. Pass observed=False to retain current behavior or observed=True to adopt the future default and silence this warning.\n",
      "  blood_type_age_distribution = df.groupby(['Age Group', 'Blood Type']).size().unstack(fill_value=0)\n"
     ]
    }
   ],
   "source": [
    "blood_type_age_distribution = df.groupby(['Age Group', 'Blood Type']).size().unstack(fill_value=0)\n",
    "\n",
    "print(\"Distribution of Blood Types by Age Group:\")\n",
    "print(blood_type_age_distribution)"
   ]
  },
  {
   "cell_type": "code",
   "execution_count": 57,
   "metadata": {},
   "outputs": [
    {
     "name": "stdout",
     "output_type": "stream",
     "text": [
      "Blood Type Distribution by Medical Condition:\n",
      "Blood Type           A+    A-   AB+   AB-    B+    B-    O+    O-\n",
      "Medical Condition                                                \n",
      "Arthritis          1116  1153  1130  1192  1201  1169  1198  1149\n",
      "Asthma             1135  1173  1189  1134  1108  1119  1173  1154\n",
      "Cancer             1185  1134  1112  1198  1196  1144  1108  1150\n",
      "Diabetes           1213  1167  1173  1139  1188  1151  1151  1122\n",
      "Hypertension       1128  1199  1215  1125  1103  1173  1157  1145\n",
      "Obesity            1179  1143  1128  1157  1149  1188  1130  1157\n"
     ]
    }
   ],
   "source": [
    "blood_type_medical_condition_distribution = df.groupby(['Medical Condition', 'Blood Type']).size().unstack(fill_value=0)\n",
    "\n",
    "print(\"Blood Type Distribution by Medical Condition:\")\n",
    "print(blood_type_medical_condition_distribution)\n",
    "\n"
   ]
  },
  {
   "cell_type": "code",
   "execution_count": 58,
   "metadata": {},
   "outputs": [],
   "source": [
    "df.to_csv('Healthcare.csv',index=False)"
   ]
  }
 ],
 "metadata": {
  "kernelspec": {
   "display_name": "Python 3",
   "language": "python",
   "name": "python3"
  },
  "language_info": {
   "codemirror_mode": {
    "name": "ipython",
    "version": 3
   },
   "file_extension": ".py",
   "mimetype": "text/x-python",
   "name": "python",
   "nbconvert_exporter": "python",
   "pygments_lexer": "ipython3",
   "version": "3.11.4"
  }
 },
 "nbformat": 4,
 "nbformat_minor": 2
}
